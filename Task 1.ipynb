{
 "cells": [
  {
   "cell_type": "markdown",
   "id": "7f02fbf9-4127-4fb3-b231-984a071bf733",
   "metadata": {},
   "source": [
    " ## DHARMA S\n",
    "#### INTERN AT THE SPARKS FOUNDATION(GRIP)\n",
    "#### DOMAIN : DATA SCIENCE & BUSINESS ANALYTICS\n",
    "#### TASK - 1 : PREDICTION USING SUPERVISED ML \n",
    "#### BATCH : JUNE 2023"
   ]
  },
  {
   "cell_type": "markdown",
   "id": "980cc8f5",
   "metadata": {},
   "source": [
    "## Importing Modules"
   ]
  },
  {
   "cell_type": "code",
   "execution_count": 2,
   "id": "bf515bb0",
   "metadata": {
    "tags": []
   },
   "outputs": [],
   "source": [
    "import pandas as pd\n",
    "import numpy as np\n",
    "import matplotlib.pyplot as plt\n",
    "from sklearn.model_selection import train_test_split"
   ]
  },
  {
   "cell_type": "markdown",
   "id": "b7752a4a",
   "metadata": {},
   "source": [
    "## Implementing the Linear Regression"
   ]
  },
  {
   "cell_type": "code",
   "execution_count": 3,
   "id": "056f5be7",
   "metadata": {
    "scrolled": true,
    "tags": []
   },
   "outputs": [],
   "source": [
    "class LinearRegression:\n",
    "    def fit(self,X,y):\n",
    "        m = X.shape[0]\n",
    "        X_mean, y_mean = np.mean(X), np.mean(y)\n",
    "        X_mean_diff, y_mean_diff = X-X_mean, y-y_mean\n",
    "        self.b1 = (X_mean_diff @ y_mean_diff) / (X_mean_diff @ X_mean_diff)\n",
    "        self.b0 = y_mean - (self.b1 * X_mean)\n",
    "        return self\n",
    "    \n",
    "    def predict(self,X):\n",
    "        return self.b0 + X*self.b1\n",
    "\n",
    "    def evaluate(self,X,y):\n",
    "        y_pred = self.predict(X)\n",
    "        y_diff,y_mean_diff  = y-y_pred , y-np.mean(y)\n",
    "        rmse = np.sqrt(y_diff @ y_diff/X.shape[0])\n",
    "        ss_tot = y_mean_diff @ y_mean_diff\n",
    "        ss_res = y_diff @ y_diff\n",
    "        r2 = 1 - ss_res/ss_tot\n",
    "        print(\"Root mean squared Error:\",rmse)\n",
    "        print(\"R^2 value:\",r2)"
   ]
  },
  {
   "cell_type": "markdown",
   "id": "5509bc34",
   "metadata": {},
   "source": [
    "# Ploting the function for regression"
   ]
  },
  {
   "cell_type": "code",
   "execution_count": 11,
   "id": "9dcf31dc",
   "metadata": {
    "tags": []
   },
   "outputs": [],
   "source": [
    "def regression_plot(X,y,model,title=\"\"):\n",
    "    plt.figure(figsize=(6,7))\n",
    "    plt.title(title)\n",
    "    plt.xlabel(\"Hours\")\n",
    "    plt.ylabel(\"scores\")\n",
    "    \n",
    "    x_line = np.array([np.min(X),np.max(X)]).reshape(-1,1)\n",
    "    y_line = model.predict(x_line)\n",
    "    \n",
    "    plt.scatter(X, y,c='blue', label='Original Data Points')\n",
    "    plt.plot(x_line, y_line,linewidth=4, label='Regression Line')\n",
    "    plt.legend()\n",
    "     "
   ]
  },
  {
   "cell_type": "markdown",
   "id": "a12bca6c",
   "metadata": {},
   "source": [
    "# Loading and processing the dataset"
   ]
  },
  {
   "cell_type": "code",
   "execution_count": 5,
   "id": "15b7c875",
   "metadata": {
    "tags": []
   },
   "outputs": [
    {
     "data": {
      "text/html": [
       "<div>\n",
       "<style scoped>\n",
       "    .dataframe tbody tr th:only-of-type {\n",
       "        vertical-align: middle;\n",
       "    }\n",
       "\n",
       "    .dataframe tbody tr th {\n",
       "        vertical-align: top;\n",
       "    }\n",
       "\n",
       "    .dataframe thead th {\n",
       "        text-align: right;\n",
       "    }\n",
       "</style>\n",
       "<table border=\"1\" class=\"dataframe\">\n",
       "  <thead>\n",
       "    <tr style=\"text-align: right;\">\n",
       "      <th></th>\n",
       "      <th>Hours</th>\n",
       "      <th>Scores</th>\n",
       "    </tr>\n",
       "  </thead>\n",
       "  <tbody>\n",
       "    <tr>\n",
       "      <th>0</th>\n",
       "      <td>2.5</td>\n",
       "      <td>21</td>\n",
       "    </tr>\n",
       "    <tr>\n",
       "      <th>1</th>\n",
       "      <td>5.1</td>\n",
       "      <td>47</td>\n",
       "    </tr>\n",
       "    <tr>\n",
       "      <th>2</th>\n",
       "      <td>3.2</td>\n",
       "      <td>27</td>\n",
       "    </tr>\n",
       "    <tr>\n",
       "      <th>3</th>\n",
       "      <td>8.5</td>\n",
       "      <td>75</td>\n",
       "    </tr>\n",
       "    <tr>\n",
       "      <th>4</th>\n",
       "      <td>3.5</td>\n",
       "      <td>30</td>\n",
       "    </tr>\n",
       "  </tbody>\n",
       "</table>\n",
       "</div>"
      ],
      "text/plain": [
       "   Hours  Scores\n",
       "0    2.5      21\n",
       "1    5.1      47\n",
       "2    3.2      27\n",
       "3    8.5      75\n",
       "4    3.5      30"
      ]
     },
     "execution_count": 5,
     "metadata": {},
     "output_type": "execute_result"
    }
   ],
   "source": [
    "data = pd.read_csv(\"datasets/students_scores.csv\")\n",
    "data.head()"
   ]
  },
  {
   "cell_type": "markdown",
   "id": "49fc1e38",
   "metadata": {},
   "source": [
    "# ploting distribution for scores"
   ]
  },
  {
   "cell_type": "code",
   "execution_count": 6,
   "id": "d0978ec5",
   "metadata": {
    "tags": []
   },
   "outputs": [
    {
     "data": {
      "image/png": "[encoded data removed]",
      "text/plain": [
       "<Figure size 640x480 with 1 Axes>"
      ]
     },
     "metadata": {},
     "output_type": "display_data"
    }
   ],
   "source": [
    "data.plot(x='Hours',y='Scores',style= 'o',c = 'blue')\n",
    "plt.title('Hours vs Scores')\n",
    "plt.xlabel('Hours Studied')\n",
    "plt.ylabel('Score')\n",
    "plt.show()"
   ]
  },
  {
   "cell_type": "markdown",
   "id": "c3873f53",
   "metadata": {},
   "source": [
    "# Implementing the Linear Regression using scrath"
   ]
  },
  {
   "cell_type": "code",
   "execution_count": 12,
   "id": "6048e5cc",
   "metadata": {
    "tags": []
   },
   "outputs": [
    {
     "data": {
      "image/png": "[encoded data removed]",
      "text/plain": [
       "<Figure size 600x700 with 1 Axes>"
      ]
     },
     "metadata": {},
     "output_type": "display_data"
    }
   ],
   "source": [
    "X = data['Hours'].values\n",
    "y = data['Scores'].values\n",
    "X_train,X_test,y_train,y_test = train_test_split(X,y,test_size=0.2)\n",
    "model = LinearRegression()\n",
    "model.fit(X_train,y_train)\n",
    "regression_plot(X,y,model,title = 'Train Regression model')\n"
   ]
  },
  {
   "cell_type": "markdown",
   "id": "e83068cf",
   "metadata": {},
   "source": [
    "# Testing the model"
   ]
  },
  {
   "cell_type": "code",
   "execution_count": 14,
   "id": "5a75d608",
   "metadata": {
    "tags": []
   },
   "outputs": [
    {
     "data": {
      "text/html": [
       "<div>\n",
       "<style scoped>\n",
       "    .dataframe tbody tr th:only-of-type {\n",
       "        vertical-align: middle;\n",
       "    }\n",
       "\n",
       "    .dataframe tbody tr th {\n",
       "        vertical-align: top;\n",
       "    }\n",
       "\n",
       "    .dataframe thead th {\n",
       "        text-align: right;\n",
       "    }\n",
       "</style>\n",
       "<table border=\"1\" class=\"dataframe\">\n",
       "  <thead>\n",
       "    <tr style=\"text-align: right;\">\n",
       "      <th></th>\n",
       "      <th>Actual</th>\n",
       "      <th>Predicted</th>\n",
       "    </tr>\n",
       "  </thead>\n",
       "  <tbody>\n",
       "    <tr>\n",
       "      <th>0</th>\n",
       "      <td>30</td>\n",
       "      <td>26.287177</td>\n",
       "    </tr>\n",
       "    <tr>\n",
       "      <th>1</th>\n",
       "      <td>81</td>\n",
       "      <td>83.992500</td>\n",
       "    </tr>\n",
       "    <tr>\n",
       "      <th>2</th>\n",
       "      <td>24</td>\n",
       "      <td>20.317661</td>\n",
       "    </tr>\n",
       "    <tr>\n",
       "      <th>3</th>\n",
       "      <td>54</td>\n",
       "      <td>49.170323</td>\n",
       "    </tr>\n",
       "    <tr>\n",
       "      <th>4</th>\n",
       "      <td>35</td>\n",
       "      <td>39.221129</td>\n",
       "    </tr>\n",
       "  </tbody>\n",
       "</table>\n",
       "</div>"
      ],
      "text/plain": [
       "   Actual  Predicted\n",
       "0      30  26.287177\n",
       "1      81  83.992500\n",
       "2      24  20.317661\n",
       "3      54  49.170323\n",
       "4      35  39.221129"
      ]
     },
     "execution_count": 14,
     "metadata": {},
     "output_type": "execute_result"
    }
   ],
   "source": [
    "y_pred = model.predict(X_test)\n",
    "testing = pd.DataFrame({\"Actual\":y_test ,\"Predicted\":y_pred})\n",
    "testing"
   ]
  },
  {
   "cell_type": "markdown",
   "id": "8426f658",
   "metadata": {},
   "source": [
    "# Testing the model with study hour '9.25' per day"
   ]
  },
  {
   "cell_type": "code",
   "execution_count": 16,
   "id": "9a76caa3",
   "metadata": {
    "tags": []
   },
   "outputs": [
    {
     "name": "stdout",
     "output_type": "stream",
     "text": [
      "Spending 9.25 hours per day will make a student able to score 93.444234 % marks.\n"
     ]
    }
   ],
   "source": [
    "hours = 9.25\n",
    "test = model.predict(hours)\n",
    "print(f\"Spending 9.25 hours per day will make a student able to score {test:2f} % marks.\")\n"
   ]
  },
  {
   "cell_type": "markdown",
   "id": "800fd4ec",
   "metadata": {},
   "source": [
    "## Evaluating the model using \"Root Mean Square Error\""
   ]
  },
  {
   "cell_type": "code",
   "execution_count": 18,
   "id": "862474ba",
   "metadata": {
    "tags": []
   },
   "outputs": [
    {
     "name": "stdout",
     "output_type": "stream",
     "text": [
      "Root mean squared Error: 5.395084280249839\n",
      "R^2 value: 0.9525829545364224\n"
     ]
    }
   ],
   "source": [
    "Evaluate = model.evaluate(X,y)"
   ]
  }
 ],
 "metadata": {
  "kernelspec": {
   "display_name": "Python 3 (ipykernel)",
   "language": "python",
   "name": "python3"
  },
  "language_info": {
   "codemirror_mode": {
    "name": "ipython",
    "version": 3
   },
   "file_extension": ".py",
   "mimetype": "text/x-python",
   "name": "python",
   "nbconvert_exporter": "python",
   "pygments_lexer": "ipython3",
   "version": "3.10.10"
  }
 },
 "nbformat": 4,
 "nbformat_minor": 5
}
